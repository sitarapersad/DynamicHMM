{
 "cells": [
  {
   "cell_type": "code",
   "execution_count": 2,
   "outputs": [],
   "source": [
    "# Auto reload imported modules\n",
    "%load_ext autoreload\n",
    "%autoreload 2"
   ],
   "metadata": {
    "collapsed": false,
    "pycharm": {
     "name": "#%%\n"
    },
    "ExecuteTime": {
     "end_time": "2024-02-13T21:53:28.528338Z",
     "start_time": "2024-02-13T21:53:28.504586Z"
    }
   }
  },
  {
   "cell_type": "code",
   "execution_count": 3,
   "outputs": [],
   "source": [
    "# Use pomegranate to create a Hidden Markov Model\n",
    "import torch\n",
    "import numpy as np"
   ],
   "metadata": {
    "collapsed": false,
    "pycharm": {
     "name": "#%%\n"
    },
    "ExecuteTime": {
     "end_time": "2024-02-13T21:53:29.564167Z",
     "start_time": "2024-02-13T21:53:28.670883Z"
    }
   }
  },
  {
   "cell_type": "code",
   "outputs": [
    {
     "data": {
      "text/plain": "array([[1],\n       [0],\n       [1]])"
     },
     "execution_count": 15,
     "metadata": {},
     "output_type": "execute_result"
    }
   ],
   "source": [
    "X = np.array([[1,0,1],[1,0,1],[1,0,1],[1,0,1],[1,0,1]]).reshape(-1,3,1)\n",
    "X[0]"
   ],
   "metadata": {
    "collapsed": false,
    "ExecuteTime": {
     "end_time": "2024-02-13T22:11:34.741364Z",
     "start_time": "2024-02-13T22:11:34.645115Z"
    }
   },
   "execution_count": 15
  },
  {
   "cell_type": "code",
   "execution_count": 16,
   "outputs": [
    {
     "name": "stdout",
     "output_type": "stream",
     "text": [
      "False\n",
      "False\n",
      "False\n"
     ]
    }
   ],
   "source": [
    "# Create Poisson distributions for each state\n",
    "from pomegranate.distributions import Poisson, Categorical\n",
    "from pomegranate.hmm import DenseHMM\n",
    "\n",
    "d1 = Categorical([[0.2, 0.8]])\n",
    "d2 = Categorical([[0.8, 0.2]])\n",
    "\n",
    "\n",
    "X = np.array([[1,0,1],[1,0,1],[1,0,1],[1,0,1],[1,0,1]]).reshape(-1,3,1) # n_obs x seq_len x distribution_dim\n",
    "# X = np.array([[1,0,1]]).reshape(-1,3,1) # n_obs x seq_len x distribution_dim\n",
    "\n",
    "\n",
    "# Create the Hidden Markov Model object\n",
    "model = DenseHMM()\n",
    "\n",
    "print(model._initialized)\n",
    "model.add_distributions([d1, d2])\n",
    "print(model._initialized)\n",
    "\n",
    "model.add_edge(d1, d2, 0.5)\n",
    "model.add_edge(d1, d1, 0.5)\n",
    "model.add_edge(d2, d1, 0.4)\n",
    "model.add_edge(d2, d2, 0.6)\n",
    "print(model._initialized)"
   ],
   "metadata": {
    "collapsed": false,
    "pycharm": {
     "name": "#%%\n"
    },
    "ExecuteTime": {
     "end_time": "2024-02-13T22:11:35.132017Z",
     "start_time": "2024-02-13T22:11:35.094396Z"
    }
   }
  },
  {
   "cell_type": "code",
   "execution_count": 31,
   "outputs": [
    {
     "data": {
      "text/plain": "1"
     },
     "execution_count": 31,
     "metadata": {},
     "output_type": "execute_result"
    }
   ],
   "source": [
    "m3.d"
   ],
   "metadata": {
    "collapsed": false,
    "pycharm": {
     "name": "#%%\n"
    },
    "ExecuteTime": {
     "end_time": "2024-02-13T22:37:42.342030Z",
     "start_time": "2024-02-13T22:37:42.215114Z"
    }
   }
  },
  {
   "cell_type": "code",
   "execution_count": 20,
   "outputs": [
    {
     "name": "stdout",
     "output_type": "stream",
     "text": [
      "True\n"
     ]
    }
   ],
   "source": [
    "from pomegranate.hmm._base import _check_inputs as _check_inputs_base\n",
    "_check_inputs_base(model, X, None, None)\n",
    "\n",
    "print(model._initialized)"
   ],
   "metadata": {
    "collapsed": false,
    "pycharm": {
     "name": "#%%\n"
    },
    "ExecuteTime": {
     "end_time": "2024-02-13T22:11:44.530866Z",
     "start_time": "2024-02-13T22:11:44.495126Z"
    }
   }
  },
  {
   "cell_type": "code",
   "execution_count": 21,
   "outputs": [
    {
     "data": {
      "text/plain": "tensor([[0.5000, 0.5000],\n        [0.4000, 0.6000]])"
     },
     "execution_count": 21,
     "metadata": {},
     "output_type": "execute_result"
    }
   ],
   "source": [
    "torch.exp(model.edges)"
   ],
   "metadata": {
    "collapsed": false,
    "pycharm": {
     "name": "#%%\n"
    },
    "ExecuteTime": {
     "end_time": "2024-02-13T22:11:45.459701Z",
     "start_time": "2024-02-13T22:11:45.421473Z"
    }
   }
  },
  {
   "cell_type": "code",
   "execution_count": 22,
   "outputs": [
    {
     "data": {
      "text/plain": "tensor([0.5000, 0.5000])"
     },
     "execution_count": 22,
     "metadata": {},
     "output_type": "execute_result"
    }
   ],
   "source": [
    "torch.exp(model.starts)"
   ],
   "metadata": {
    "collapsed": false,
    "pycharm": {
     "name": "#%%\n"
    },
    "ExecuteTime": {
     "end_time": "2024-02-13T22:11:45.911222Z",
     "start_time": "2024-02-13T22:11:45.885470Z"
    }
   }
  },
  {
   "cell_type": "code",
   "execution_count": 33,
   "outputs": [
    {
     "name": "stdout",
     "output_type": "stream",
     "text": [
      "Somehow calling initialize\n"
     ]
    },
    {
     "data": {
      "text/plain": "torch.Size([5, 3, 2])"
     },
     "execution_count": 33,
     "metadata": {},
     "output_type": "execute_result"
    }
   ],
   "source": [
    "from dynamicHMM import DynamicHMM\n",
    "from pomegranate.distributions import Categorical\n",
    "import numpy as np\n",
    "import torch\n",
    "\n",
    "\n",
    "T = np.array(\n",
    "\t\t\t\t[[[0.5, 0.5],\n",
    "\t\t\t\t [0.4, 0.6]],\n",
    "\t\t\t\t[[0.3, 0.7],\n",
    "\t\t\t\t [0.6, 0.4]]]\n",
    "\t\t\t)\n",
    "\n",
    "# T = np.array(\n",
    "# \t\t\t\t[[[0.5, 0.5],\n",
    "# \t\t\t\t [0.4, 0.6]],\n",
    "# \t\t\t\t[[0.5, 0.5],\n",
    "# \t\t\t\t [0.4, 0.6]]]\n",
    "# \t\t\t)\n",
    "\n",
    "m3 = DynamicHMM(3, distributions=[d1,d2], edges=T)\n",
    "m3._emission_matrix(X).shape"
   ],
   "metadata": {
    "collapsed": false,
    "pycharm": {
     "name": "#%%\n"
    },
    "ExecuteTime": {
     "end_time": "2024-02-15T14:00:10.947808Z",
     "start_time": "2024-02-15T14:00:10.909603Z"
    }
   }
  },
  {
   "cell_type": "code",
   "execution_count": 30,
   "outputs": [
    {
     "data": {
      "text/plain": "(5, 3, 1)"
     },
     "execution_count": 30,
     "metadata": {},
     "output_type": "execute_result"
    }
   ],
   "source": [
    "X.shape"
   ],
   "metadata": {
    "collapsed": false,
    "pycharm": {
     "name": "#%%\n"
    },
    "ExecuteTime": {
     "end_time": "2024-02-13T22:15:06.283803Z",
     "start_time": "2024-02-13T22:15:06.251968Z"
    }
   }
  },
  {
   "cell_type": "code",
   "execution_count": 215,
   "outputs": [
    {
     "name": "stdout",
     "output_type": "stream",
     "text": [
      "[1] Improvement: 60.83203125, Time: 0.02394s\n",
      "[2] Improvement: 0.390625, Time: 0.03312s\n",
      "[3] Improvement: 0.388671875, Time: 0.03131s\n",
      "[4] Improvement: 0.384765625, Time: 0.02661s\n",
      "[5] Improvement: 0.384765625, Time: 0.02379s\n",
      "[6] Improvement: 0.3828125, Time: 0.03899s\n",
      "[7] Improvement: 0.3828125, Time: 0.02178s\n",
      "[8] Improvement: 0.392578125, Time: 0.02029s\n",
      "[9] Improvement: 0.396484375, Time: 0.02812s\n",
      "[10] Improvement: 0.396484375, Time: 0.03588s\n",
      "[11] Improvement: 0.40625, Time: 0.02638s\n",
      "[12] Improvement: 0.412109375, Time: 0.03506s\n",
      "[13] Improvement: 0.41796875, Time: 0.03488s\n",
      "[14] Improvement: 0.4296875, Time: 0.04794s\n",
      "[15] Improvement: 0.4375, Time: 0.03995s\n",
      "[16] Improvement: 0.4453125, Time: 0.02441s\n",
      "[17] Improvement: 0.453125, Time: 0.03333s\n",
      "[18] Improvement: 0.46484375, Time: 0.03454s\n",
      "[19] Improvement: 0.470703125, Time: 0.02617s\n",
      "[20] Improvement: 0.48046875, Time: 0.03107s\n",
      "[21] Improvement: 0.484375, Time: 0.03462s\n",
      "[22] Improvement: 0.49609375, Time: 0.0289s\n",
      "[23] Improvement: 0.5, Time: 0.03347s\n",
      "[24] Improvement: 0.509765625, Time: 0.02918s\n",
      "[25] Improvement: 0.509765625, Time: 0.03377s\n",
      "[26] Improvement: 0.517578125, Time: 0.03404s\n",
      "[27] Improvement: 0.51953125, Time: 0.04638s\n",
      "[28] Improvement: 0.521484375, Time: 0.02534s\n",
      "[29] Improvement: 0.517578125, Time: 0.02318s\n",
      "[30] Improvement: 0.51953125, Time: 0.02775s\n",
      "[31] Improvement: 0.51953125, Time: 0.02794s\n",
      "[32] Improvement: 0.517578125, Time: 0.03323s\n",
      "[33] Improvement: 0.513671875, Time: 0.03275s\n",
      "[34] Improvement: 0.5078125, Time: 0.03399s\n",
      "[35] Improvement: 0.501953125, Time: 0.03136s\n",
      "[36] Improvement: 0.498046875, Time: 0.02959s\n",
      "[37] Improvement: 0.490234375, Time: 0.02488s\n",
      "[38] Improvement: 0.478515625, Time: 0.02194s\n",
      "[39] Improvement: 0.478515625, Time: 0.03287s\n",
      "[40] Improvement: 0.46484375, Time: 0.02945s\n",
      "[41] Improvement: 0.44921875, Time: 0.03256s\n",
      "[42] Improvement: 0.44921875, Time: 0.02993s\n",
      "[43] Improvement: 0.443359375, Time: 0.03847s\n",
      "[44] Improvement: 0.42578125, Time: 0.04047s\n",
      "[45] Improvement: 0.421875, Time: 0.0362s\n",
      "[46] Improvement: 0.41796875, Time: 0.03365s\n",
      "[47] Improvement: 0.416015625, Time: 0.02577s\n",
      "[48] Improvement: 0.40234375, Time: 0.02624s\n",
      "[49] Improvement: 0.39453125, Time: 0.03746s\n",
      "[50] Improvement: 0.396484375, Time: 0.02725s\n",
      "[51] Improvement: 0.392578125, Time: 0.02848s\n",
      "[52] Improvement: 0.390625, Time: 0.04406s\n",
      "[53] Improvement: 0.390625, Time: 0.02346s\n",
      "[54] Improvement: 0.384765625, Time: 0.03592s\n",
      "[55] Improvement: 0.392578125, Time: 0.03759s\n",
      "[56] Improvement: 0.392578125, Time: 0.02399s\n",
      "[57] Improvement: 0.396484375, Time: 0.0232s\n",
      "[58] Improvement: 0.40234375, Time: 0.02436s\n",
      "[59] Improvement: 0.41015625, Time: 0.02695s\n",
      "[60] Improvement: 0.416015625, Time: 0.01971s\n",
      "[61] Improvement: 0.42578125, Time: 0.02779s\n",
      "[62] Improvement: 0.431640625, Time: 0.03371s\n",
      "[63] Improvement: 0.447265625, Time: 0.02698s\n",
      "[64] Improvement: 0.4609375, Time: 0.03389s\n",
      "[65] Improvement: 0.47265625, Time: 0.01867s\n",
      "[66] Improvement: 0.4921875, Time: 0.02782s\n",
      "[67] Improvement: 0.50390625, Time: 0.03129s\n",
      "[68] Improvement: 0.525390625, Time: 0.02473s\n",
      "[69] Improvement: 0.546875, Time: 0.03434s\n",
      "[70] Improvement: 0.564453125, Time: 0.03977s\n",
      "[71] Improvement: 0.5859375, Time: 0.02509s\n",
      "[72] Improvement: 0.6171875, Time: 0.03022s\n",
      "[73] Improvement: 0.630859375, Time: 0.03169s\n",
      "[74] Improvement: 0.662109375, Time: 0.03243s\n",
      "[75] Improvement: 0.69140625, Time: 0.02718s\n",
      "[76] Improvement: 0.71875, Time: 0.03057s\n",
      "[77] Improvement: 0.75, Time: 0.0313s\n",
      "[78] Improvement: 0.77734375, Time: 0.02987s\n",
      "[79] Improvement: 0.8125, Time: 0.03485s\n",
      "[80] Improvement: 0.849609375, Time: 0.02716s\n",
      "[81] Improvement: 0.87890625, Time: 0.068s\n",
      "[82] Improvement: 0.916015625, Time: 0.03016s\n",
      "[83] Improvement: 0.953125, Time: 0.03014s\n",
      "[84] Improvement: 0.990234375, Time: 0.03256s\n",
      "[85] Improvement: 1.025390625, Time: 0.03408s\n",
      "[86] Improvement: 1.060546875, Time: 0.02662s\n",
      "[87] Improvement: 1.09375, Time: 0.03142s\n",
      "[88] Improvement: 1.134765625, Time: 0.03034s\n",
      "[89] Improvement: 1.16015625, Time: 0.03242s\n",
      "[90] Improvement: 1.19140625, Time: 0.03023s\n",
      "[91] Improvement: 1.228515625, Time: 0.03035s\n",
      "[92] Improvement: 1.25, Time: 0.03455s\n",
      "[93] Improvement: 1.2734375, Time: 0.03237s\n",
      "[94] Improvement: 1.291015625, Time: 0.03335s\n",
      "[95] Improvement: 1.3046875, Time: 0.03266s\n",
      "[96] Improvement: 1.3203125, Time: 0.02982s\n",
      "[97] Improvement: 1.31640625, Time: 0.02845s\n",
      "[98] Improvement: 1.31640625, Time: 0.0234s\n",
      "[99] Improvement: 1.30859375, Time: 0.03086s\n",
      "[100] Improvement: 1.298828125, Time: 0.02731s\n",
      "[101] Improvement: 1.275390625, Time: 0.02815s\n",
      "[102] Improvement: 1.244140625, Time: 0.02724s\n",
      "[103] Improvement: 1.21875, Time: 0.03054s\n",
      "[104] Improvement: 1.173828125, Time: 0.03145s\n",
      "[105] Improvement: 1.130859375, Time: 0.02763s\n",
      "[106] Improvement: 1.08203125, Time: 0.02659s\n",
      "[107] Improvement: 1.0234375, Time: 0.02905s\n",
      "[108] Improvement: 0.970703125, Time: 0.0299s\n",
      "[109] Improvement: 0.91015625, Time: 0.02645s\n",
      "[110] Improvement: 0.8515625, Time: 0.04281s\n",
      "[111] Improvement: 0.78125, Time: 0.0327s\n",
      "[112] Improvement: 0.7265625, Time: 0.02698s\n",
      "[113] Improvement: 0.66015625, Time: 0.02029s\n",
      "[114] Improvement: 0.6015625, Time: 0.02442s\n",
      "[115] Improvement: 0.544921875, Time: 0.02358s\n",
      "[116] Improvement: 0.48828125, Time: 0.02384s\n",
      "[117] Improvement: 0.443359375, Time: 0.0274s\n",
      "[118] Improvement: 0.38671875, Time: 0.02294s\n",
      "[119] Improvement: 0.34765625, Time: 0.02225s\n",
      "[120] Improvement: 0.302734375, Time: 0.02332s\n",
      "[121] Improvement: 0.265625, Time: 0.03308s\n",
      "[122] Improvement: 0.23046875, Time: 0.02383s\n",
      "[123] Improvement: 0.203125, Time: 0.02612s\n",
      "[124] Improvement: 0.173828125, Time: 0.05813s\n",
      "[125] Improvement: 0.150390625, Time: 0.02174s\n",
      "[126] Improvement: 0.1328125, Time: 0.0279s\n",
      "[127] Improvement: 0.107421875, Time: 0.02248s\n",
      "[128] Improvement: 0.099609375, Time: 0.02842s\n",
      "[129] Improvement: 0.078125, Time: 0.02465s\n",
      "[130] Improvement: 0.07421875, Time: 0.02637s\n",
      "[131] Improvement: 0.056640625, Time: 0.02753s\n",
      "[132] Improvement: 0.044921875, Time: 0.03169s\n",
      "[133] Improvement: 0.046875, Time: 0.01987s\n",
      "[134] Improvement: 0.03125, Time: 0.02529s\n",
      "[135] Improvement: 0.033203125, Time: 0.02283s\n",
      "[136] Improvement: 0.02734375, Time: 0.02551s\n",
      "[137] Improvement: 0.0234375, Time: 0.02886s\n",
      "[138] Improvement: 0.015625, Time: 0.02691s\n",
      "[139] Improvement: 0.013671875, Time: 0.03378s\n",
      "[140] Improvement: 0.015625, Time: 0.05242s\n",
      "[141] Improvement: 0.01171875, Time: 0.05295s\n",
      "[142] Improvement: 0.009765625, Time: 0.07824s\n",
      "[143] Improvement: 0.00390625, Time: 0.03409s\n",
      "[144] Improvement: 0.00390625, Time: 0.0569s\n",
      "[145] Improvement: 0.009765625, Time: 0.02918s\n",
      "[146] Improvement: 0.00390625, Time: 0.0282s\n",
      "[147] Improvement: 0.00390625, Time: 0.03089s\n",
      "[148] Improvement: 0.001953125, Time: 0.02513s\n",
      "[149] Improvement: 0.00390625, Time: 0.02862s\n",
      "[150] Improvement: 0.001953125, Time: 0.02444s\n",
      "[151] Improvement: 0.00390625, Time: 0.02183s\n",
      "[152] Improvement: 0.001953125, Time: 0.02601s\n",
      "[153] Improvement: 0.0, Time: 0.02341s\n"
     ]
    },
    {
     "data": {
      "text/plain": "[Parameter containing:\n tensor([[0.7454, 0.2546]]),\n Parameter containing:\n tensor([[0.2942, 0.7058]])]"
     },
     "execution_count": 215,
     "metadata": {},
     "output_type": "execute_result"
    }
   ],
   "source": [
    "# Can we learn the parameters of the HMM?\n",
    "# Initialize a random model\n",
    "Xsample = m3.sample(10000).numpy().astype(int)\n",
    "m_random = DynamicHMM(3, distributions=[Categorical([[0.6, 0.4]]), Categorical([[0.5, 0.5]])], tol=1e-3, max_iter=500)\n",
    "m_random.verbose = True\n",
    "m_random.fit(Xsample)\n",
    "\n",
    "# d1 = Categorical([[0.2, 0.8]])\n",
    "# d2 = Categorical([[0.8, 0.2]])\n",
    "\n",
    "[x.probs for x in m_random.distributions]"
   ],
   "metadata": {
    "collapsed": false,
    "pycharm": {
     "name": "#%%\n"
    }
   }
  },
  {
   "cell_type": "code",
   "execution_count": 216,
   "outputs": [
    {
     "data": {
      "text/plain": "tensor([[[0.6253, 0.3747],\n         [0.4744, 0.5256]],\n\n        [[0.2688, 0.7312],\n         [0.7818, 0.2182]]])"
     },
     "execution_count": 216,
     "metadata": {},
     "output_type": "execute_result"
    }
   ],
   "source": [
    "# T = np.array(\n",
    "# \t\t\t\t[[[0.5, 0.5],\n",
    "# \t\t\t\t [0.4, 0.6]],\n",
    "# \t\t\t\t[[0.3, 0.7],\n",
    "# \t\t\t\t [0.6, 0.4]]]\n",
    "# \t\t\t)\n",
    "\n",
    "torch.exp(m_random.edges)"
   ],
   "metadata": {
    "collapsed": false,
    "pycharm": {
     "name": "#%%\n"
    }
   }
  },
  {
   "cell_type": "code",
   "execution_count": 180,
   "outputs": [
    {
     "data": {
      "text/plain": "tensor(0.)"
     },
     "execution_count": 180,
     "metadata": {},
     "output_type": "execute_result"
    }
   ],
   "source": [
    "m_random.inertia"
   ],
   "metadata": {
    "collapsed": false,
    "pycharm": {
     "name": "#%%\n"
    }
   }
  },
  {
   "cell_type": "code",
   "execution_count": 172,
   "outputs": [
    {
     "data": {
      "text/plain": "<AxesSubplot:>"
     },
     "execution_count": 172,
     "metadata": {},
     "output_type": "execute_result"
    },
    {
     "data": {
      "text/plain": "<Figure size 432x288 with 2 Axes>",
      "image/png": "[encoded data removed]"
     },
     "metadata": {
      "needs_background": "light"
     },
     "output_type": "display_data"
    }
   ],
   "source": [
    "import seaborn as sns\n",
    "sns.heatmap(Xsample.squeeze())"
   ],
   "metadata": {
    "collapsed": false,
    "pycharm": {
     "name": "#%%\n"
    }
   }
  },
  {
   "cell_type": "code",
   "execution_count": 167,
   "outputs": [
    {
     "data": {
      "text/plain": "array([[0, 0, 0],\n       [0, 0, 0],\n       [1, 0, 1],\n       [0, 0, 0],\n       [1, 0, 1],\n       [1, 0, 0],\n       [1, 0, 1],\n       [1, 0, 1],\n       [1, 0, 0],\n       [0, 0, 0],\n       [1, 0, 0],\n       [0, 1, 1],\n       [0, 1, 1],\n       [1, 1, 0],\n       [0, 0, 0],\n       [1, 0, 1],\n       [0, 0, 1],\n       [1, 1, 1],\n       [0, 1, 1],\n       [1, 0, 0],\n       [0, 0, 1],\n       [1, 1, 1],\n       [0, 0, 0],\n       [0, 0, 0],\n       [1, 1, 1],\n       [1, 1, 1],\n       [1, 1, 0],\n       [1, 0, 0],\n       [1, 1, 1],\n       [1, 0, 0],\n       [1, 0, 1],\n       [1, 1, 1],\n       [0, 0, 0],\n       [0, 0, 0],\n       [0, 1, 0],\n       [1, 1, 1],\n       [1, 0, 0],\n       [1, 1, 0],\n       [0, 1, 1],\n       [0, 0, 0],\n       [0, 1, 1],\n       [0, 1, 0],\n       [1, 0, 1],\n       [1, 0, 1],\n       [1, 0, 1],\n       [1, 1, 0],\n       [0, 0, 1],\n       [1, 0, 0],\n       [1, 0, 1],\n       [1, 0, 1],\n       [1, 0, 0],\n       [0, 0, 0],\n       [0, 1, 0],\n       [1, 0, 1],\n       [1, 0, 1],\n       [0, 1, 1],\n       [1, 1, 0],\n       [1, 1, 1],\n       [1, 0, 0],\n       [0, 1, 0],\n       [1, 1, 1],\n       [1, 1, 1],\n       [0, 0, 1],\n       [0, 0, 0],\n       [1, 1, 0],\n       [1, 0, 1],\n       [0, 1, 0],\n       [0, 1, 0],\n       [1, 0, 1],\n       [0, 0, 1],\n       [1, 1, 1],\n       [1, 0, 0],\n       [1, 1, 0],\n       [0, 1, 0],\n       [1, 1, 0],\n       [0, 1, 0],\n       [1, 0, 1],\n       [1, 1, 0],\n       [0, 1, 0],\n       [1, 0, 0],\n       [0, 0, 1],\n       [1, 0, 0],\n       [0, 0, 0],\n       [0, 0, 1],\n       [1, 1, 1],\n       [1, 0, 1],\n       [0, 1, 0],\n       [0, 1, 1],\n       [1, 0, 1],\n       [0, 0, 0],\n       [0, 0, 1],\n       [1, 1, 1],\n       [0, 1, 0],\n       [1, 1, 1],\n       [1, 0, 1],\n       [1, 0, 0],\n       [0, 1, 0],\n       [0, 0, 1],\n       [0, 0, 0],\n       [0, 1, 1]])"
     },
     "execution_count": 167,
     "metadata": {},
     "output_type": "execute_result"
    }
   ],
   "source": [
    "Xsample.squeeze()"
   ],
   "metadata": {
    "collapsed": false,
    "pycharm": {
     "name": "#%%\n"
    }
   }
  }
 ],
 "metadata": {
  "kernelspec": {
   "display_name": "Python 3",
   "language": "python",
   "name": "python3"
  },
  "language_info": {
   "codemirror_mode": {
    "name": "ipython",
    "version": 2
   },
   "file_extension": ".py",
   "mimetype": "text/x-python",
   "name": "python",
   "nbconvert_exporter": "python",
   "pygments_lexer": "ipython2",
   "version": "2.7.6"
  }
 },
 "nbformat": 4,
 "nbformat_minor": 0
}
